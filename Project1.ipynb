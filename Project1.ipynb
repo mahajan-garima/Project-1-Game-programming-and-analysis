{
 "cells": [
  {
   "cell_type": "markdown",
   "metadata": {},
   "source": [
    "<img src=\"http://imgur.com/1ZcRyrc.png\" style=\"float: left; margin: 15px; height: 80px\">\n",
    "\n",
    "# Project 1\n",
    "\n",
    "### Building \"Pokemon Stay\"\n",
    "\n",
    "---\n",
    "You are an analyst at a \"scrappy\" online gaming company that specializes in remakes of last year's fads.\n",
    "\n",
    "Your boss, who runs the product development team, is convinced that Pokemon Go's fatal flaw was that you had to actually move around outside. She has design mock-ups for a new game called Pokemon Stay: in this version players still need to move, but just from website to website. Pokemon gyms are now popular online destinations, and catching Pokemon in the \"wild\" simply requires browsing the internet for hours in the comfort of your home.\n",
    "\n",
    "She wants you to program a prototype version of the game, and analyze the planned content to help the team calibrate the design."
   ]
  },
  {
   "cell_type": "markdown",
   "metadata": {},
   "source": [
    "#### Package imports\n",
    "\n",
    "The pprint package below is the only package imported here, and it's not even strictly required to do any of the project. Printing python variables and objects with pprint can help to format them in a \"prettier\" way."
   ]
  },
  {
   "cell_type": "code",
   "execution_count": 1,
   "metadata": {},
   "outputs": [],
   "source": [
    "from pprint import pprint"
   ]
  },
  {
   "cell_type": "markdown",
   "metadata": {},
   "source": [
    "<img src=\"http://imgur.com/l5NasQj.png\" style=\"float: left; margin: 25px 15px 0px 0px; height: 25px\">\n",
    "\n",
    "## 1. Defining a player\n",
    "\n",
    "---\n",
    "\n",
    "The player variables are:\n",
    "\n",
    "    player_id : id code unique to each player (integer)\n",
    "    player_name : entered name of the player (string)\n",
    "    time_played : number of time played the game in minutes (float)\n",
    "    player_pokemon: the player's captured pokemon (dictionary)\n",
    "    gyms_visited: ids of the gyms that a player has visited (list)\n",
    "    \n",
    "Create the components for a player object by defining each of these variables. The dictionary and list variables should just be defined as empty; you can use any (correctly typed) values for the others."
   ]
  },
  {
   "cell_type": "code",
   "execution_count": 2,
   "metadata": {},
   "outputs": [],
   "source": [
    "player_id = 1\n",
    "player_name = 'Garima'\n",
    "time_played = 120.0\n",
    "player_pokemon = {}\n",
    "gyms_visited = []"
   ]
  },
  {
   "cell_type": "markdown",
   "metadata": {},
   "source": [
    "<img src=\"http://imgur.com/l5NasQj.png\" style=\"float: left; margin: 25px 15px 0px 0px; height: 25px\">\n",
    "\n",
    "## 2. Defining \"gym\" locations\n",
    "\n",
    "---\n",
    "\n",
    "As the sole programmer, Pokemon Stay will have to start small. To begin, there will be 10 different gym location websites on the internet. The gym locations are:\n",
    "\n",
    "    1. 'reddit.com'\n",
    "    2. 'amazon.com'\n",
    "    3. 'twitter.com'\n",
    "    4. 'linkedin.com'\n",
    "    5. 'ebay.com'\n",
    "    6. 'netflix.com'\n",
    "    7. 'amazon.com'\n",
    "    8. 'stackoverflow.com'\n",
    "    9. 'github.com'\n",
    "    10. 'quora.com'\n",
    "\n",
    "1. Set up a list of all the gym locations. This will be a list of strings.\n",
    "2. Append two of these locations to your player's list of visited gyms.\n",
    "3. Print the list."
   ]
  },
  {
   "cell_type": "code",
   "execution_count": 3,
   "metadata": {},
   "outputs": [
    {
     "name": "stdout",
     "output_type": "stream",
     "text": [
      "['reddit.com', 'amazon.com', 'twitter.com', 'linkedin.com', 'ebay.com', 'netflix.com', 'amazon.com', 'stackoverflow.com', 'github.com', 'quora.com']\n"
     ]
    }
   ],
   "source": [
    "gym_locations = ['reddit.com','amazon.com','twitter.com','linkedin.com','ebay.com','netflix.com','amazon.com',\n",
    "                 'stackoverflow.com','github.com','quora.com']\n",
    "print(gym_locations)"
   ]
  },
  {
   "cell_type": "code",
   "execution_count": 4,
   "metadata": {},
   "outputs": [
    {
     "name": "stdout",
     "output_type": "stream",
     "text": [
      "['reddit.com', 'netflix.com']\n"
     ]
    }
   ],
   "source": [
    "gyms_visited.append(gym_locations[0])\n",
    "gyms_visited.append(gym_locations[5])\n",
    "print(gyms_visited)"
   ]
  },
  {
   "cell_type": "markdown",
   "metadata": {},
   "source": [
    "<img src=\"http://imgur.com/l5NasQj.png\" style=\"float: left; margin: 25px 15px 0px 0px; height: 25px\">\n",
    "\n",
    "## 3. Create a pokedex\n",
    "\n",
    "---\n",
    "\n",
    "We also need to create some pokemon to catch. Each pokemon will be defined by these variables:\n",
    "\n",
    "    pokemon_id : unique identifier for each pokemon (integer)\n",
    "    name : the name of the pokemon (string)\n",
    "    type : the category of pokemon (string)\n",
    "    hp : base hitpoints (integer)\n",
    "    attack : base attack (integer)\n",
    "    defense : base defense (integer)\n",
    "    special_attack : base special attack (integer)\n",
    "    special_defense : base sepecial defense (integer)\n",
    "    speed : base speed (integer)\n",
    "\n",
    "We are only going to create 3 different pokemon with these `pokemon_id` and `pokemon_name` values:\n",
    "\n",
    "    1 : 'charmander'\n",
    "    2 : 'squirtle'\n",
    "    3 : 'bulbasaur'\n",
    "\n",
    "Create a dictionary that will contain the pokemon. The keys of the dictionary will be the `pokemon_id` and the values will themselves dictionaries that contain the other pokemon variables. The structure of the pokedex dictionary will start like so:\n",
    "     \n",
    "     {\n",
    "         1: {\n",
    "                 'name':'charmander',\n",
    "                 'type':'fire',\n",
    "                 ...\n",
    "                 \n",
    "The `type` of charmander, squirtle, and bulbasaur should be `'fire'`, `'water'`, and `'poison'` respectively. The other values are up to you, make them anything you like!\n",
    "\n",
    "Print (or pretty print) the pokedex dictionary with the 3 pokemon."
   ]
  },
  {
   "cell_type": "code",
   "execution_count": 5,
   "metadata": {},
   "outputs": [
    {
     "name": "stdout",
     "output_type": "stream",
     "text": [
      "{1: {'attack': 49,\n",
      "     'defense': 49,\n",
      "     'hp': 45,\n",
      "     'name': 'charmander',\n",
      "     'special_attack': 65,\n",
      "     'special_defense': 65,\n",
      "     'speed': 45,\n",
      "     'type': 'fire'},\n",
      " 2: {'attack': 65,\n",
      "     'defense': 78,\n",
      "     'hp': 49,\n",
      "     'name': 'squirtle',\n",
      "     'special_attack': 58,\n",
      "     'special_defense': 60,\n",
      "     'speed': 45,\n",
      "     <class 'type'>: 'water'},\n",
      " 3: {'attack': 60,\n",
      "     'defense': 40,\n",
      "     'hp': 65,\n",
      "     'name': 'bulbasaur',\n",
      "     'special_attack': 50,\n",
      "     'special_defense': 45,\n",
      "     'speed': 34,\n",
      "     <class 'type'>: 'poison'}}\n"
     ]
    }
   ],
   "source": [
    "\n",
    "pokedex ={1: {'name':'charmander','type':'fire','hp' : 45,'attack' : 49,'defense' : 49,'special_attack' : 65,'special_defense' : 65,'speed' : 45},\n",
    " 2:{'name' : 'squirtle',type : 'water','hp' : 49,'attack' : 65, 'defense' : 78,'special_attack' : 58,'special_defense' : 60,'speed' : 45},\n",
    " 3:{'name' : 'bulbasaur',type : 'poison','hp' : 65,'attack' : 60, 'defense' : 40,'special_attack' :50,'special_defense' : 45,'speed' : 34}}\n",
    "\n",
    "pprint(pokedex)"
   ]
  },
  {
   "cell_type": "markdown",
   "metadata": {},
   "source": [
    "<img src=\"http://imgur.com/l5NasQj.png\" style=\"float: left; margin: 25px 15px 0px 0px; height: 25px\">\n",
    "\n",
    "## 4. Create a data structure for players\n",
    "\n",
    "---\n",
    "\n",
    "### 4.1 \n",
    "\n",
    "In order to maintain a database of multiple players, create a dictionary that keeps track of players indexed by `player_id`. \n",
    "\n",
    "The keys of the dictionary will be `player_id` and values will be dictionaries containing each player's variables (from question 1). \n",
    "\n",
    "Construct the `players` dictionary and insert the player that you defined in question 1, then print `players`."
   ]
  },
  {
   "cell_type": "code",
   "execution_count": 6,
   "metadata": {},
   "outputs": [],
   "source": [
    "players = {\n",
    "    player_id : {\n",
    "        'player_name': player_name,\n",
    "        'time_played': time_played,\n",
    "        'player_pokemon': player_pokemon,\n",
    "        'gyms_visited':gyms_visited\n",
    "    }\n",
    "}\n"
   ]
  },
  {
   "cell_type": "code",
   "execution_count": 7,
   "metadata": {},
   "outputs": [
    {
     "name": "stdout",
     "output_type": "stream",
     "text": [
      "{1: {'gyms_visited': ['reddit.com', 'netflix.com'],\n",
      "     'player_name': 'Garima',\n",
      "     'player_pokemon': {},\n",
      "     'time_played': 120.0}}\n"
     ]
    }
   ],
   "source": [
    "pprint(players)"
   ]
  },
  {
   "cell_type": "markdown",
   "metadata": {},
   "source": [
    "---\n",
    "\n",
    "### 4.2\n",
    "\n",
    "Create a new player with `player_id = 2` in the `players` dictionary. Leave the `'player_pokemon'` dictionary empty. Append `'alcatraz'` and `'pacific_beach'` to the `'gyms_visited'` list for player 2.\n",
    "\n",
    "The `'player_name'` and `'time_played'` values are up to you, but must be a string and float, respectively.\n",
    "\n",
    "Remember, the player_id is the key for the player in the players dictionary.\n",
    "\n",
    "Print the `players` dictionary with the new player inserted."
   ]
  },
  {
   "cell_type": "code",
   "execution_count": 8,
   "metadata": {},
   "outputs": [],
   "source": [
    "players[2] = {'player_name':'Ginnie' ,'time_played': 30,'player_pokemon':{},\n",
    "              'gyms_visited':['alcatraz','pacific_beach']}"
   ]
  },
  {
   "cell_type": "code",
   "execution_count": 9,
   "metadata": {},
   "outputs": [
    {
     "name": "stdout",
     "output_type": "stream",
     "text": [
      "{1: {'gyms_visited': ['reddit.com', 'netflix.com'],\n",
      "     'player_name': 'Garima',\n",
      "     'player_pokemon': {},\n",
      "     'time_played': 120.0},\n",
      " 2: {'gyms_visited': ['alcatraz', 'pacific_beach'],\n",
      "     'player_name': 'Ginnie',\n",
      "     'player_pokemon': {},\n",
      "     'time_played': 30}}\n"
     ]
    }
   ],
   "source": [
    "pprint(players)"
   ]
  },
  {
   "cell_type": "markdown",
   "metadata": {},
   "source": [
    "<img src=\"http://imgur.com/l5NasQj.png\" style=\"float: left; margin: 25px 15px 0px 0px; height: 25px\">\n",
    "\n",
    "## 5. Add captured pokemon for each player\n",
    "\n",
    "---\n",
    "\n",
    "The `'player_pokemon'` keyed dictionaries for each player keep track of which of the pokemon each player has.\n",
    "\n",
    "The keys of the `'player_pokemon'` dictionaries are the pokemon ids that correspond to the ids in the `pokedex` dictionary you created earlier. The values are integers specifying the stats for the pokemon.\n",
    "\n",
    "Give player 1 a squirtle. Give player 2 charmander and a bulbasaur.\n",
    "\n",
    "Print the players dictionary after adding the pokemon for each player.\n"
   ]
  },
  {
   "cell_type": "code",
   "execution_count": 10,
   "metadata": {},
   "outputs": [],
   "source": [
    "## Player1- Garima has the squritle pokemom\n",
    "players[1]['player_pokemon'] = pokedex[2]"
   ]
  },
  {
   "cell_type": "code",
   "execution_count": 11,
   "metadata": {},
   "outputs": [
    {
     "name": "stdout",
     "output_type": "stream",
     "text": [
      "name ['charmander', 'bulbasaur']\n",
      "type ['fire']\n",
      "hp [45, 65]\n",
      "attack [49, 60]\n",
      "defense [49, 40]\n",
      "special_attack [65, 50]\n",
      "special_defense [65, 45]\n",
      "speed [45, 34]\n",
      "<class 'type'> ['poison']\n"
     ]
    }
   ],
   "source": [
    "## Player2- Ginnie has the charmander and bulbasaur pokemom\n",
    "from itertools import chain\n",
    "from collections import defaultdict\n",
    "dict1 = pokedex[1]\n",
    "dict2 = pokedex[3]\n",
    "dict3 = defaultdict(list)\n",
    "for k, v in chain(dict1.items(), dict2.items()):\n",
    "    dict3[k].append(v)\n",
    "for k, v in dict3.items():\n",
    "    print(k, v)"
   ]
  },
  {
   "cell_type": "code",
   "execution_count": 12,
   "metadata": {},
   "outputs": [],
   "source": [
    "players[2]['player_pokemon'] = dict3"
   ]
  },
  {
   "cell_type": "code",
   "execution_count": 13,
   "metadata": {},
   "outputs": [
    {
     "name": "stdout",
     "output_type": "stream",
     "text": [
      "{1: {'gyms_visited': ['reddit.com', 'netflix.com'],\n",
      "     'player_name': 'Garima',\n",
      "     'player_pokemon': {'attack': 65,\n",
      "                        'defense': 78,\n",
      "                        'hp': 49,\n",
      "                        'name': 'squirtle',\n",
      "                        'special_attack': 58,\n",
      "                        'special_defense': 60,\n",
      "                        'speed': 45,\n",
      "                        <class 'type'>: 'water'},\n",
      "     'time_played': 120.0},\n",
      " 2: {'gyms_visited': ['alcatraz', 'pacific_beach'],\n",
      "     'player_name': 'Ginnie',\n",
      "     'player_pokemon': defaultdict(<class 'list'>,\n",
      "                                   {'attack': [49, 60],\n",
      "                                    'defense': [49, 40],\n",
      "                                    'hp': [45, 65],\n",
      "                                    'name': ['charmander', 'bulbasaur'],\n",
      "                                    'special_attack': [65, 50],\n",
      "                                    'special_defense': [65, 45],\n",
      "                                    'speed': [45, 34],\n",
      "                                    'type': ['fire'],\n",
      "                                    <class 'type'>: ['poison']}),\n",
      "     'time_played': 30}}\n"
     ]
    }
   ],
   "source": [
    "pprint(players)\n"
   ]
  },
  {
   "cell_type": "markdown",
   "metadata": {},
   "source": [
    "\n",
    "\n",
    "## 6. What gyms have players visited?\n",
    "\n",
    "---\n",
    "<img src=\"http://imgur.com/l5NasQj.png\" style=\"float: left; margin: 25px 15px 0px 0px; height: 25px\">\n",
    "### 6.1\n",
    "\n",
    "Write a for-loop that:\n",
    "\n",
    "1. Iterates through the `pokemon_gyms` list of gym locations you defined before.\n",
    "2. For each gym, iterate through each player in the `players` dictionary with a second, internal for-loop.\n",
    "3. If the player has visited the gym, print out \"[player] has visited [gym location].\", filling in [player] and [gym location] with the current player's name and current gym location."
   ]
  },
  {
   "cell_type": "code",
   "execution_count": 14,
   "metadata": {},
   "outputs": [
    {
     "data": {
      "text/plain": [
       "['reddit.com',\n",
       " 'amazon.com',\n",
       " 'twitter.com',\n",
       " 'linkedin.com',\n",
       " 'ebay.com',\n",
       " 'netflix.com',\n",
       " 'amazon.com',\n",
       " 'stackoverflow.com',\n",
       " 'github.com',\n",
       " 'quora.com']"
      ]
     },
     "execution_count": 14,
     "metadata": {},
     "output_type": "execute_result"
    }
   ],
   "source": [
    "gym_locations"
   ]
  },
  {
   "cell_type": "code",
   "execution_count": 15,
   "metadata": {},
   "outputs": [
    {
     "name": "stdout",
     "output_type": "stream",
     "text": [
      "Garima has visited reddit.com\n",
      "Ginnie probabaly dint make the visits to reddit.com gym\n",
      "Garima probabaly dint make the visits to amazon.com gym\n",
      "Ginnie probabaly dint make the visits to amazon.com gym\n",
      "Garima probabaly dint make the visits to twitter.com gym\n",
      "Ginnie probabaly dint make the visits to twitter.com gym\n",
      "Garima probabaly dint make the visits to linkedin.com gym\n",
      "Ginnie probabaly dint make the visits to linkedin.com gym\n",
      "Garima probabaly dint make the visits to ebay.com gym\n",
      "Ginnie probabaly dint make the visits to ebay.com gym\n",
      "Garima has visited netflix.com\n",
      "Ginnie probabaly dint make the visits to netflix.com gym\n",
      "Garima probabaly dint make the visits to amazon.com gym\n",
      "Ginnie probabaly dint make the visits to amazon.com gym\n",
      "Garima probabaly dint make the visits to stackoverflow.com gym\n",
      "Ginnie probabaly dint make the visits to stackoverflow.com gym\n",
      "Garima probabaly dint make the visits to github.com gym\n",
      "Ginnie probabaly dint make the visits to github.com gym\n",
      "Garima probabaly dint make the visits to quora.com gym\n",
      "Ginnie probabaly dint make the visits to quora.com gym\n"
     ]
    }
   ],
   "source": [
    "for gym in gym_locations:\n",
    "    for key , value in players.items():\n",
    "        if gym in value['gyms_visited']:\n",
    "            print(value['player_name']+ \" has visited \"+str(gym))\n",
    "        else:\n",
    "            print(value['player_name'] + \" probabaly dint make the visits to \"+ str(gym)+ \" gym\")\n",
    "        \n",
    "            "
   ]
  },
  {
   "cell_type": "markdown",
   "metadata": {},
   "source": [
    "<img src=\"http://imgur.com/xDpSobf.png\" style=\"float: left; margin: 25px 15px 0px 0px; height: 25px\">\n",
    "### 6.2\n",
    "\n",
    "How many times did that loop run? If you have N gyms and also N players, how many times would it run as a function of N?\n",
    "\n",
    "Can you think of a more efficient way to accomplish the same thing? \n",
    "\n",
    "(You can write your answer as Markdown text.)"
   ]
  },
  {
   "cell_type": "markdown",
   "metadata": {},
   "source": [
    "If there are 'N' gyms and players\n",
    "The above function is gonna run- (N*N) times"
   ]
  },
  {
   "cell_type": "code",
   "execution_count": 16,
   "metadata": {},
   "outputs": [
    {
     "name": "stdout",
     "output_type": "stream",
     "text": [
      "{1: {'gyms_visited': ['reddit.com', 'netflix.com'],\n",
      "     'player_name': 'Garima',\n",
      "     'player_pokemon': {'attack': 65,\n",
      "                        'defense': 78,\n",
      "                        'hp': 49,\n",
      "                        'name': 'squirtle',\n",
      "                        'special_attack': 58,\n",
      "                        'special_defense': 60,\n",
      "                        'speed': 45,\n",
      "                        <class 'type'>: 'water'},\n",
      "     'time_played': 120.0},\n",
      " 2: {'gyms_visited': ['alcatraz', 'pacific_beach'],\n",
      "     'player_name': 'Ginnie',\n",
      "     'player_pokemon': defaultdict(<class 'list'>,\n",
      "                                   {'attack': [49, 60],\n",
      "                                    'defense': [49, 40],\n",
      "                                    'hp': [45, 65],\n",
      "                                    'name': ['charmander', 'bulbasaur'],\n",
      "                                    'special_attack': [65, 50],\n",
      "                                    'special_defense': [65, 45],\n",
      "                                    'speed': [45, 34],\n",
      "                                    'type': ['fire'],\n",
      "                                    <class 'type'>: ['poison']}),\n",
      "     'time_played': 30}}\n"
     ]
    }
   ],
   "source": [
    "pprint(players)"
   ]
  },
  {
   "cell_type": "markdown",
   "metadata": {},
   "source": [
    "<img src=\"http://imgur.com/l5NasQj.png\" style=\"float: left; margin: 25px 15px 0px 0px; height: 25px\">\n",
    "\n",
    "## 7. Calculate player \"power\".\n",
    "\n",
    "---\n",
    "\n",
    "Define a function that will calculate a player's \"power\". Player power is defined as the sum of the base statistics all of their pokemon.\n",
    "\n",
    "Your function will:\n",
    "\n",
    "1. Accept the `players` dictionary, `pokedex` dictionary, and a player_id as arguments.\n",
    "2. For the specified player_id, look up that player's pokemon and their level(s).\n",
    "3. Find and aggregate the attack and defense values for each of the player's pokemon from the `pokedex` dictionary.\n",
    "4. Print \"[player name]'s power is [player power].\", where the player power is the sum of the base statistics for all of their pokemon.\n",
    "5. Return the player's power value.\n",
    "\n",
    "Print out the pokemon power for each of your players."
   ]
  },
  {
   "cell_type": "code",
   "execution_count": 62,
   "metadata": {},
   "outputs": [],
   "source": [
    "import numpy as np\n",
    "\n",
    "def power(players,player_id):\n",
    "    for all_keys, values in players.items():\n",
    "        if all_keys == player_id:\n",
    "        #Name of the Player\n",
    "            n = players[player_id][\"player_pokemon\"][\"name\"]\n",
    "        # No. of Pokemon the player has in the players_pokemon\n",
    "            n1= len(players[player_id][\"player_pokemon\"]['name'])\n",
    "        #Aggregate of defense values\n",
    "            n2 =np.sum(players[player_id][\"player_pokemon\"][\"defense\"])\n",
    "        #Aggregate of attack values\n",
    "            n3=np.sum(players[player_id][\"player_pokemon\"][\"attack\"])\n",
    "\n",
    "        return (n,n1,n2,n3)\n"
   ]
  },
  {
   "cell_type": "code",
   "execution_count": 63,
   "metadata": {},
   "outputs": [
    {
     "data": {
      "text/plain": [
       "(['charmander', 'bulbasaur'], 2, 89, 109)"
      ]
     },
     "execution_count": 63,
     "metadata": {},
     "output_type": "execute_result"
    }
   ],
   "source": [
    "power(players,2)"
   ]
  },
  {
   "cell_type": "markdown",
   "metadata": {
    "collapsed": true
   },
   "source": [
    "<img src=\"http://imgur.com/l5NasQj.png\" style=\"float: left; margin: 25px 15px 0px 0px; height: 25px\">\n",
    "\n",
    "## 8. Load a pokedex file containing all the pokemon\n",
    "\n",
    "---\n",
    "\n",
    "### 8.1\n",
    "\n",
    "While you were putting together the prototype code, your colleagues were preparing a dataset of Pokemon and their attributes. (This was a rush job, so they may have picked some crazy values for some...)\n",
    "\n",
    "The code below loads information from a comma separated value (csv) file. You need to parse this string into a more useable format. The format of the string is:\n",
    "\n",
    "- Rows are separated by newline characters: \\n\n",
    "- Columns are separated by commas: ,\n",
    "- All cells in the csv are double quoted. Ex: \"PokedexNumber\" is the first cell of the first row.\n",
    "\n",
    "\n",
    "Using for-loops, create a list of lists where each list within the overall list is a row of the csv/matrix, and each element in that list is a cell in that row. Additional criteria:\n",
    "\n",
    "1. Quotes are removed from each cell item.\n",
    "2. Numeric column values are converted to floats.\n",
    "3. There are some cells that are empty and have no information. For these cells put a -1 value in place.\n",
    "\n",
    "Your end result is effectively a matrix. Each list in the outer list is a row, and the *j*th elements of list together form the *j*th column, which represents a data attribute. The first three lists in your pokedex list should look like this:\n",
    "\n",
    "    ['PokedexNumber', 'Name', 'Type', 'Total', 'HP', 'Attack', 'Defense', 'SpecialAttack', 'SpecialDefense', 'Speed']\n",
    "    [1.0, 'Bulbasaur', 'GrassPoison', 318.0, 45.0, 49.0, 49.0, 65.0, 65.0, 45.0]\n",
    "    [2.0, 'Ivysaur', 'GrassPoison', 405.0, 60.0, 62.0, 63.0, 80.0, 80.0, 60.0]"
   ]
  },
  {
   "cell_type": "code",
   "execution_count": 82,
   "metadata": {},
   "outputs": [],
   "source": [
    "import pandas as pd\n",
    "\n",
    "pokedex_file = 'pokedex_basic.csv'"
   ]
  },
  {
   "cell_type": "code",
   "execution_count": 83,
   "metadata": {},
   "outputs": [],
   "source": [
    "pokedex = pd.read_csv(pokedex_file)"
   ]
  },
  {
   "cell_type": "code",
   "execution_count": 84,
   "metadata": {},
   "outputs": [],
   "source": [
    "pokedex.loc[:,['PokedexNumber','Total','HP', 'Attack', 'Defense', \n",
    "                 'SpecialAttack', 'SpecialDefense', 'Speed']] = pokedex_n.loc[:,['PokedexNumber','Total','HP', \n",
    "                                                                                 'Attack', 'Defense', \n",
    "                                                                                 'SpecialAttack', 'SpecialDefense', \n",
    "                                                                                 'Speed']].astype(float)"
   ]
  },
  {
   "cell_type": "code",
   "execution_count": 85,
   "metadata": {},
   "outputs": [
    {
     "data": {
      "text/html": [
       "<div>\n",
       "<style scoped>\n",
       "    .dataframe tbody tr th:only-of-type {\n",
       "        vertical-align: middle;\n",
       "    }\n",
       "\n",
       "    .dataframe tbody tr th {\n",
       "        vertical-align: top;\n",
       "    }\n",
       "\n",
       "    .dataframe thead th {\n",
       "        text-align: right;\n",
       "    }\n",
       "</style>\n",
       "<table border=\"1\" class=\"dataframe\">\n",
       "  <thead>\n",
       "    <tr style=\"text-align: right;\">\n",
       "      <th></th>\n",
       "      <th>PokedexNumber</th>\n",
       "      <th>Name</th>\n",
       "      <th>Type</th>\n",
       "      <th>Total</th>\n",
       "      <th>HP</th>\n",
       "      <th>Attack</th>\n",
       "      <th>Defense</th>\n",
       "      <th>SpecialAttack</th>\n",
       "      <th>SpecialDefense</th>\n",
       "      <th>Speed</th>\n",
       "    </tr>\n",
       "  </thead>\n",
       "  <tbody>\n",
       "    <tr>\n",
       "      <th>594</th>\n",
       "      <td>534.0</td>\n",
       "      <td>Conkeldurr</td>\n",
       "      <td>Fighting</td>\n",
       "      <td>505.0</td>\n",
       "      <td>105.0</td>\n",
       "      <td>140.0</td>\n",
       "      <td>95.0</td>\n",
       "      <td>55.0</td>\n",
       "      <td>65.0</td>\n",
       "      <td>45.0</td>\n",
       "    </tr>\n",
       "    <tr>\n",
       "      <th>650</th>\n",
       "      <td>589.0</td>\n",
       "      <td>Escavalier</td>\n",
       "      <td>BugSteel</td>\n",
       "      <td>495.0</td>\n",
       "      <td>70.0</td>\n",
       "      <td>135.0</td>\n",
       "      <td>105.0</td>\n",
       "      <td>60.0</td>\n",
       "      <td>105.0</td>\n",
       "      <td>20.0</td>\n",
       "    </tr>\n",
       "    <tr>\n",
       "      <th>515</th>\n",
       "      <td>464.0</td>\n",
       "      <td>Rhyperior</td>\n",
       "      <td>GroundRock</td>\n",
       "      <td>535.0</td>\n",
       "      <td>115.0</td>\n",
       "      <td>140.0</td>\n",
       "      <td>130.0</td>\n",
       "      <td>55.0</td>\n",
       "      <td>55.0</td>\n",
       "      <td>40.0</td>\n",
       "    </tr>\n",
       "  </tbody>\n",
       "</table>\n",
       "</div>"
      ],
      "text/plain": [
       "     PokedexNumber        Name        Type  Total     HP  Attack  Defense  \\\n",
       "594          534.0  Conkeldurr    Fighting  505.0  105.0   140.0     95.0   \n",
       "650          589.0  Escavalier    BugSteel  495.0   70.0   135.0    105.0   \n",
       "515          464.0   Rhyperior  GroundRock  535.0  115.0   140.0    130.0   \n",
       "\n",
       "     SpecialAttack  SpecialDefense  Speed  \n",
       "594           55.0            65.0   45.0  \n",
       "650           60.0           105.0   20.0  \n",
       "515           55.0            55.0   40.0  "
      ]
     },
     "execution_count": 85,
     "metadata": {},
     "output_type": "execute_result"
    }
   ],
   "source": [
    "pokedex.sample(3)"
   ]
  },
  {
   "cell_type": "markdown",
   "metadata": {},
   "source": [
    "<img src=\"http://imgur.com/xDpSobf.png\" style=\"float: left; margin: 25px 15px 0px 0px; height: 25px\">\n",
    "\n",
    "### 8.2 Parse the raw pokedex with list comprehensions\n",
    "\n",
    "---\n",
    "\n",
    "Perform the same parsing as above, but **using only a single list comprehension** instead of for loops. You may have nested list comprehensions within the main list comprehension! The output should be exactly the same."
   ]
  },
  {
   "cell_type": "code",
   "execution_count": null,
   "metadata": {},
   "outputs": [],
   "source": []
  },
  {
   "cell_type": "markdown",
   "metadata": {},
   "source": [
    "<img src=\"http://imgur.com/l5NasQj.png\" style=\"float: left; margin: 25px 15px 0px 0px; height: 25px\">\n",
    "\n",
    "## 9. Write a function to generate the full pokedex\n",
    "\n",
    "---\n",
    "\n",
    "Write a function that recreates the pokedex you made before, but with the data read in from the full pokemon file. The `PokedexNumber` should be used as the `pokemon_id` key values for the dictionary of pokemon.\n",
    "\n",
    "Your function should:\n",
    "\n",
    "1. Take the parsed pokedex information you created above as an argument.\n",
    "2. Return a dictionary in the same format as your original pokedex you created before containing the information from the parsed full pokedex file.\n",
    "\n",
    "To test the function, print out the pokemon with id = 100."
   ]
  },
  {
   "cell_type": "code",
   "execution_count": 86,
   "metadata": {
    "scrolled": true
   },
   "outputs": [
    {
     "data": {
      "text/plain": [
       "pandas.core.frame.DataFrame"
      ]
     },
     "execution_count": 86,
     "metadata": {},
     "output_type": "execute_result"
    }
   ],
   "source": [
    "type(pokedex)"
   ]
  },
  {
   "cell_type": "code",
   "execution_count": 87,
   "metadata": {},
   "outputs": [],
   "source": [
    "## Pokedex is the dataframe \n",
    "## poke_id has the pokemon_id's  (Dict)\n",
    "\n",
    "poke_id= list(pokedex['PokedexNumber'])\n",
    "\n",
    "## pokemon_details is the details corresponding to each pokemon_id   (DataFrame)\n",
    "pokemon_details = pokedex.loc[:,['Name','Type','Total','HP','Attack','Defense','SpecialAttack','SpecialDefense','Speed']]\n",
    "\n",
    "## poke_details id the details corresponding to each pokemon_id     (Dict)\n",
    "poke_details=pokemon_details.to_dict(orient='records')\n",
    "\n",
    "## full_pokedex is the dictionary to pokedex dataframe (dict)\n",
    "full_pokedex= dict(zip(poke_id,poke_details))\n"
   ]
  },
  {
   "cell_type": "code",
   "execution_count": 88,
   "metadata": {},
   "outputs": [
    {
     "data": {
      "text/plain": [
       "{'Name': 'Voltorb',\n",
       " 'Type': 'Electric',\n",
       " 'Total': 330.0,\n",
       " 'HP': 40.0,\n",
       " 'Attack': 30.0,\n",
       " 'Defense': 50.0,\n",
       " 'SpecialAttack': 55.0,\n",
       " 'SpecialDefense': 55.0,\n",
       " 'Speed': 100.0}"
      ]
     },
     "execution_count": 88,
     "metadata": {},
     "output_type": "execute_result"
    }
   ],
   "source": [
    "full_pokedex[100]"
   ]
  },
  {
   "cell_type": "markdown",
   "metadata": {
    "collapsed": true
   },
   "source": [
    "\n",
    "## 9. Descriptive statistics on the prototype pokedex\n",
    "\n",
    "<img src=\"http://imgur.com/l5NasQj.png\" style=\"float: left; margin: 25px 15px 0px 0px; height: 25px\">\n",
    "### 9.1\n",
    "\n",
    "What is the population mean and standard deviation of the \"Total\" attribute for all characters in the Pokedex?\n",
    "\n"
   ]
  },
  {
   "cell_type": "code",
   "execution_count": 89,
   "metadata": {},
   "outputs": [
    {
     "data": {
      "text/html": [
       "<div>\n",
       "<style scoped>\n",
       "    .dataframe tbody tr th:only-of-type {\n",
       "        vertical-align: middle;\n",
       "    }\n",
       "\n",
       "    .dataframe tbody tr th {\n",
       "        vertical-align: top;\n",
       "    }\n",
       "\n",
       "    .dataframe thead th {\n",
       "        text-align: right;\n",
       "    }\n",
       "</style>\n",
       "<table border=\"1\" class=\"dataframe\">\n",
       "  <thead>\n",
       "    <tr style=\"text-align: right;\">\n",
       "      <th></th>\n",
       "      <th>PokedexNumber</th>\n",
       "      <th>Name</th>\n",
       "      <th>Type</th>\n",
       "      <th>Total</th>\n",
       "      <th>HP</th>\n",
       "      <th>Attack</th>\n",
       "      <th>Defense</th>\n",
       "      <th>SpecialAttack</th>\n",
       "      <th>SpecialDefense</th>\n",
       "      <th>Speed</th>\n",
       "    </tr>\n",
       "  </thead>\n",
       "  <tbody>\n",
       "    <tr>\n",
       "      <th>0</th>\n",
       "      <td>1.0</td>\n",
       "      <td>Bulbasaur</td>\n",
       "      <td>GrassPoison</td>\n",
       "      <td>318.0</td>\n",
       "      <td>45.0</td>\n",
       "      <td>49.0</td>\n",
       "      <td>49.0</td>\n",
       "      <td>65.0</td>\n",
       "      <td>65.0</td>\n",
       "      <td>45.0</td>\n",
       "    </tr>\n",
       "    <tr>\n",
       "      <th>1</th>\n",
       "      <td>2.0</td>\n",
       "      <td>Ivysaur</td>\n",
       "      <td>GrassPoison</td>\n",
       "      <td>405.0</td>\n",
       "      <td>60.0</td>\n",
       "      <td>62.0</td>\n",
       "      <td>63.0</td>\n",
       "      <td>80.0</td>\n",
       "      <td>80.0</td>\n",
       "      <td>60.0</td>\n",
       "    </tr>\n",
       "    <tr>\n",
       "      <th>2</th>\n",
       "      <td>3.0</td>\n",
       "      <td>Venusaur</td>\n",
       "      <td>GrassPoison</td>\n",
       "      <td>525.0</td>\n",
       "      <td>80.0</td>\n",
       "      <td>82.0</td>\n",
       "      <td>83.0</td>\n",
       "      <td>100.0</td>\n",
       "      <td>100.0</td>\n",
       "      <td>80.0</td>\n",
       "    </tr>\n",
       "    <tr>\n",
       "      <th>3</th>\n",
       "      <td>3.0</td>\n",
       "      <td>VenusaurMega Venusaur</td>\n",
       "      <td>GrassPoison</td>\n",
       "      <td>625.0</td>\n",
       "      <td>80.0</td>\n",
       "      <td>100.0</td>\n",
       "      <td>123.0</td>\n",
       "      <td>122.0</td>\n",
       "      <td>120.0</td>\n",
       "      <td>80.0</td>\n",
       "    </tr>\n",
       "    <tr>\n",
       "      <th>4</th>\n",
       "      <td>4.0</td>\n",
       "      <td>Charmander</td>\n",
       "      <td>Fire</td>\n",
       "      <td>309.0</td>\n",
       "      <td>39.0</td>\n",
       "      <td>52.0</td>\n",
       "      <td>43.0</td>\n",
       "      <td>60.0</td>\n",
       "      <td>50.0</td>\n",
       "      <td>65.0</td>\n",
       "    </tr>\n",
       "  </tbody>\n",
       "</table>\n",
       "</div>"
      ],
      "text/plain": [
       "   PokedexNumber                   Name         Type  Total    HP  Attack  \\\n",
       "0            1.0              Bulbasaur  GrassPoison  318.0  45.0    49.0   \n",
       "1            2.0                Ivysaur  GrassPoison  405.0  60.0    62.0   \n",
       "2            3.0               Venusaur  GrassPoison  525.0  80.0    82.0   \n",
       "3            3.0  VenusaurMega Venusaur  GrassPoison  625.0  80.0   100.0   \n",
       "4            4.0             Charmander         Fire  309.0  39.0    52.0   \n",
       "\n",
       "   Defense  SpecialAttack  SpecialDefense  Speed  \n",
       "0     49.0           65.0            65.0   45.0  \n",
       "1     63.0           80.0            80.0   60.0  \n",
       "2     83.0          100.0           100.0   80.0  \n",
       "3    123.0          122.0           120.0   80.0  \n",
       "4     43.0           60.0            50.0   65.0  "
      ]
     },
     "execution_count": 89,
     "metadata": {},
     "output_type": "execute_result"
    }
   ],
   "source": [
    "pokedex.head()"
   ]
  },
  {
   "cell_type": "code",
   "execution_count": 90,
   "metadata": {},
   "outputs": [
    {
     "data": {
      "text/plain": [
       "435.1275"
      ]
     },
     "execution_count": 90,
     "metadata": {},
     "output_type": "execute_result"
    }
   ],
   "source": [
    "import numpy as np\n",
    "\n",
    "np_mean=np.mean(pokedex_n['Total'])\n",
    "np_mean"
   ]
  },
  {
   "cell_type": "code",
   "execution_count": 91,
   "metadata": {},
   "outputs": [
    {
     "data": {
      "text/plain": [
       "119.96202000529179"
      ]
     },
     "execution_count": 91,
     "metadata": {},
     "output_type": "execute_result"
    }
   ],
   "source": [
    "np_std=np.std(pokedex_n['Total'])\n",
    "np_std"
   ]
  },
  {
   "cell_type": "markdown",
   "metadata": {},
   "source": [
    "<img src=\"http://imgur.com/l5NasQj.png\" style=\"float: left; margin: 25px 15px 0px 0px; height: 25px\">\n",
    "### 9.2\n",
    "\n",
    "The game is no fun if the characters are wildly unbalanced! Are any characters \"overpowered\", which we'll define as having a \"Total\" more than three standard deviations from the population mean?"
   ]
  },
  {
   "cell_type": "code",
   "execution_count": 119,
   "metadata": {},
   "outputs": [
    {
     "data": {
      "text/plain": [
       "795.0135600158753"
      ]
     },
     "execution_count": 119,
     "metadata": {},
     "output_type": "execute_result"
    }
   ],
   "source": [
    "#more than 3 std away from mean\n",
    "\n",
    "overpower = np_mean + (3*(np_std))\n",
    "overpower"
   ]
  },
  {
   "cell_type": "code",
   "execution_count": 134,
   "metadata": {},
   "outputs": [
    {
     "name": "stdout",
     "output_type": "stream",
     "text": [
      "MewtwoMega Mewtwo X is unbalnaced with Total: 800.0\n"
     ]
    }
   ],
   "source": [
    "for ind,row in pokedex.iterrows():\n",
    "    if row['Total'] > overpower:\n",
    "        print(row['Name'] + \" is unbalnaced with \" +\"Total: \"+ str(row['Total']) )\n",
    "   \n"
   ]
  }
 ],
 "metadata": {
  "anaconda-cloud": {},
  "kernelspec": {
   "display_name": "Python 3",
   "language": "python",
   "name": "python3"
  },
  "language_info": {
   "codemirror_mode": {
    "name": "ipython",
    "version": 3
   },
   "file_extension": ".py",
   "mimetype": "text/x-python",
   "name": "python",
   "nbconvert_exporter": "python",
   "pygments_lexer": "ipython3",
   "version": "3.7.1"
  }
 },
 "nbformat": 4,
 "nbformat_minor": 1
}
